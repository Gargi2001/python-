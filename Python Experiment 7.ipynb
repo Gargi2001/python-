{
 "cells": [
  {
   "cell_type": "code",
   "execution_count": 12,
   "metadata": {},
   "outputs": [
    {
     "name": "stdout",
     "output_type": "stream",
     "text": [
      "Enter a non-negative integer 100\n",
      "3\n",
      "10\n"
     ]
    }
   ],
   "source": []
  },
  {
   "cell_type": "code",
   "execution_count": 1,
   "metadata": {},
   "outputs": [
    {
     "name": "stdout",
     "output_type": "stream",
     "text": [
      " Enter a value of A:100\n",
      "Valid A :\n",
      "Output\n",
      "Integer pairs for sum of squares is  100 are:\n",
      "(0, 10)\n",
      "(6, 8)\n",
      "Number of pairs whose sum of squares is  100 = 2\n"
     ]
    }
   ],
   "source": [
    "n=int(input(\" Enter a value of A:\"))\n",
    "if n>0 and n<1000:\n",
    "    print(\"Valid A :\")\n",
    "    print(\"Output\")\n",
    "else:\n",
    "    n=int(input(\"Enter value of A such that 0<=A<=1000: \"))\n",
    "    \n",
    "\n",
    "count=0\n",
    "print(\"Integer pairs for sum of squares is \",n,\"are:\")\n",
    "for i in range(1000):\n",
    "    for j in range (1000):\n",
    "        if i<=j:\n",
    "            if ((i*i)+(j*j)==n):\n",
    "                print((i,j))\n",
    "                count+=1\n",
    "        else:\n",
    "            continue\n",
    "print(\"Number of pairs whose sum of squares is \",n,\"=\",count)"
   ]
  },
  {
   "cell_type": "code",
   "execution_count": null,
   "metadata": {},
   "outputs": [],
   "source": []
  },
  {
   "cell_type": "code",
   "execution_count": null,
   "metadata": {},
   "outputs": [],
   "source": []
  }
 ],
 "metadata": {
  "kernelspec": {
   "display_name": "Python 3",
   "language": "python",
   "name": "python3"
  },
  "language_info": {
   "codemirror_mode": {
    "name": "ipython",
    "version": 3
   },
   "file_extension": ".py",
   "mimetype": "text/x-python",
   "name": "python",
   "nbconvert_exporter": "python",
   "pygments_lexer": "ipython3",
   "version": "3.7.4"
  }
 },
 "nbformat": 4,
 "nbformat_minor": 2
}
