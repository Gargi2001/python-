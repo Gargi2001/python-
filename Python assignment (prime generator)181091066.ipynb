{
 "cells": [
  {
   "cell_type": "code",
   "execution_count": 7,
   "metadata": {},
   "outputs": [
    {
     "name": "stdout",
     "output_type": "stream",
     "text": [
      "Enter the number of cases:2\n",
      "Enter the range to find prime numbers between them:1,10\n",
      "[2, 3, 5, 7] \n",
      "\n",
      "Enter the range to find prime numbers between them:2,30\n",
      "[2, 3, 5, 7, 2, 3, 5, 7, 11, 13, 17, 19, 23, 29] \n",
      "\n"
     ]
    }
   ],
   "source": [
    "case=int(input(\"Enter the number of cases:\"))\n",
    "l=[]\n",
    "if case>10:\n",
    "    print(\" number of test cases should be less than or equal to 10:\")\n",
    "    case=int(input(\"Enter the number of test cases:\"))\n",
    "    \n",
    "for a in range (case):\n",
    "        i,j=input(\"Enter the range to find prime numbers between them:\").split(',')\n",
    "        m=int(i)\n",
    "        n=int(j)\n",
    "        if (m<1 and n<m and n>10000000 and (m-n)>100000):\n",
    "            print(\"Enter valid numbers for range:\")\n",
    "            i,j=input(\"Enter the range to find prime numbers between them:\").split(',')\n",
    "            m=int(i)\n",
    "            n=int(j)\n",
    "            \n",
    "        for num in range(m,n+1):\n",
    "                if num > 1:  \n",
    "                    for i in range(2,num):\n",
    "                        if(num%i==0):\n",
    "                            break\n",
    "                    else:\n",
    "                        l.append(num)\n",
    "        print(l,\"\\n\")\n",
    "                    \n",
    "        \n",
    "\n",
    "    \n",
    "    \n"
   ]
  },
  {
   "cell_type": "code",
   "execution_count": null,
   "metadata": {},
   "outputs": [],
   "source": []
  }
 ],
 "metadata": {
  "kernelspec": {
   "display_name": "Python 3",
   "language": "python",
   "name": "python3"
  },
  "language_info": {
   "codemirror_mode": {
    "name": "ipython",
    "version": 3
   },
   "file_extension": ".py",
   "mimetype": "text/x-python",
   "name": "python",
   "nbconvert_exporter": "python",
   "pygments_lexer": "ipython3",
   "version": "3.7.4"
  }
 },
 "nbformat": 4,
 "nbformat_minor": 2
}
